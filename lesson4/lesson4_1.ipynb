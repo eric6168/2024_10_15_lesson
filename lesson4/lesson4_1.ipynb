{
 "cells": [
  {
   "cell_type": "code",
   "execution_count": 2,
   "metadata": {},
   "outputs": [
    {
     "name": "stdout",
     "output_type": "stream",
     "text": [
      "學生的分數:266\n"
     ]
    }
   ],
   "source": [
    "#學生總分最高為300\n",
    "#如果分數超過300,就以300分為準\n",
    "#有些學生可以加分5%\n",
    "scores = eval(input('請輸入學生分數(最高300分):'))\n",
    "if(scores > 300):\n",
    "    scores = 300\n",
    "is_add = input(\"學生是否符合加分條件?(y,n)\")\n",
    "if is_add == 'y':\n",
    "    scores *= 1.05\n",
    "\n",
    "print(f\"學生的分數:{scores:.0f}\")"
   ]
  },
  {
   "cell_type": "code",
   "execution_count": 3,
   "metadata": {},
   "outputs": [
    {
     "name": "stdout",
     "output_type": "stream",
     "text": [
      "學生的分數:300\n"
     ]
    }
   ],
   "source": [
    "#學生總分最高為300\n",
    "#如果分數超過300,就以300分為準\n",
    "#有些學生可以加分5%\n",
    "scores = eval(input('請輸入學生分數(最高300分):'))\n",
    "if(scores > 300):\n",
    "    scores = 300\n",
    "is_add = input(\"學生是否符合加分條件?(y,n)\")\n",
    "if is_add == 'y': #巢狀判斷\n",
    "    scores *= 1.05\n",
    "    if scores > 300:\n",
    "        scores = 300\n",
    "print(f\"學生的分數:{scores:.0f}\")"
   ]
  },
  {
   "cell_type": "code",
   "execution_count": 1,
   "metadata": {},
   "outputs": [
    {
     "name": "stdout",
     "output_type": "stream",
     "text": [
      "發生錯誤\n"
     ]
    }
   ],
   "source": [
    "#處理錯誤try...except...else..finally\n",
    "#優雅的失敗\n",
    "try:\n",
    "    raise Exception('無法處理')\n",
    "except:\n",
    "    print(\"發生錯誤\")"
   ]
  },
  {
   "cell_type": "code",
   "execution_count": 2,
   "metadata": {},
   "outputs": [
    {
     "name": "stdout",
     "output_type": "stream",
     "text": [
      "發生錯誤\n",
      "錯誤是:無法處理\n"
     ]
    }
   ],
   "source": [
    "#處理錯誤try...except...else..finally\n",
    "#優雅的失敗\n",
    "#輸出是何種錯誤\n",
    "\n",
    "try:\n",
    "    raise Exception('無法處理')\n",
    "except Exception as e:\n",
    "    print(\"發生錯誤\")\n",
    "    print(f\"錯誤是:{e}\")"
   ]
  },
  {
   "cell_type": "code",
   "execution_count": 3,
   "metadata": {},
   "outputs": [
    {
     "name": "stdout",
     "output_type": "stream",
     "text": [
      "沒有錯誤\n"
     ]
    }
   ],
   "source": [
    "#處理錯誤try...except...else..finally\n",
    "#優雅的失敗\n",
    "#輸出是何種錯誤\n",
    "#else -> 沒有發生錯誤,執行的程式區塊\n",
    "\n",
    "try:\n",
    "    #raise Exception('無法處理')\n",
    "    pass\n",
    "except Exception as e:\n",
    "    print(\"發生錯誤\")\n",
    "    print(f\"錯誤是:{e}\")\n",
    "else:\n",
    "    print('沒有錯誤')"
   ]
  },
  {
   "cell_type": "code",
   "execution_count": 5,
   "metadata": {},
   "outputs": [
    {
     "name": "stdout",
     "output_type": "stream",
     "text": [
      "目前發生錯誤:invalid decimal literal (<string>, line 1)\n"
     ]
    }
   ],
   "source": [
    "try:\n",
    "    money = eval(input(\"請輸入金額:\"))\n",
    "    print(money)\n",
    "except Exception as e:\n",
    "    print(f'目前發生錯誤:{e}')"
   ]
  },
  {
   "cell_type": "code",
   "execution_count": 6,
   "metadata": {},
   "outputs": [
    {
     "name": "stdout",
     "output_type": "stream",
     "text": [
      "輸入格式錯誤\n",
      "程式結束\n"
     ]
    }
   ],
   "source": [
    "#學生總分最高為300\n",
    "#如果分數超過300,就以300分為準\n",
    "#有些學生可以加分5%\n",
    "#第2種解決方法\n",
    "try:\n",
    "    scores = eval(input('請輸入學生分數(最高300分):'))\n",
    "    if(scores > 300):\n",
    "        scores = 300\n",
    "    is_add = input(\"學生是否符合加分條件?(y,n)\")\n",
    "    if is_add == 'y': #巢狀判斷\n",
    "        scores *= 1.05\n",
    "        if scores > 300:\n",
    "            scores = 300\n",
    "    print(f\"學生的分數:{scores:.0f}\")\n",
    "except SyntaxError:\n",
    "    print(\"輸入格式錯誤\")\n",
    "except Exception:\n",
    "    print(\"不知明的錯誤\")\n",
    "\n",
    "\n",
    "print(\"程式結束\")    "
   ]
  },
  {
   "cell_type": "code",
   "execution_count": 8,
   "metadata": {},
   "outputs": [
    {
     "name": "stdout",
     "output_type": "stream",
     "text": [
      "不及格\n",
      "丙\n"
     ]
    }
   ],
   "source": [
    "#if...else...\n",
    "scores = int(input(\"請輸入學生分數0~100\"))\n",
    "if scores >= 60:\n",
    "    print(\"及格\")\n",
    "    if scores >= 90:\n",
    "        print(\"優\")\n",
    "    else:\n",
    "        print(\"一般\")\n",
    "else:\n",
    "    print(\"不及格\")\n",
    "    if scores >= 50:\n",
    "        print(\"丙\")\n",
    "    else:\n",
    "        print(\"丁\")"
   ]
  },
  {
   "cell_type": "code",
   "execution_count": 10,
   "metadata": {},
   "outputs": [
    {
     "name": "stdout",
     "output_type": "stream",
     "text": [
      "甲\n"
     ]
    }
   ],
   "source": [
    "scores = int(input(\"請輸入學生分數0~100\"))\n",
    "if scores >= 90:\n",
    "    print('優')\n",
    "else:\n",
    "    if scores >= 80:\n",
    "        print('甲')\n",
    "    else:\n",
    "        if scores >= 70:\n",
    "            print('乙')\n",
    "        else:\n",
    "            if scores >= 60:\n",
    "                print('丙')\n",
    "            else:\n",
    "                print('丁')\n"
   ]
  },
  {
   "cell_type": "code",
   "execution_count": 11,
   "metadata": {},
   "outputs": [
    {
     "name": "stdout",
     "output_type": "stream",
     "text": [
      "甲\n"
     ]
    }
   ],
   "source": [
    "#多項選擇\n",
    "scores = int(input(\"請輸入學生分數0~100\"))\n",
    "if scores >= 90:\n",
    "    print('優')\n",
    "elif scores >= 80:    \n",
    "    print('甲')\n",
    "elif scores >= 70:\n",
    "    print('乙')\n",
    "elif scores >= 60:            \n",
    "    print('丙')\n",
    "else:\n",
    "    print('丁')"
   ]
  }
 ],
 "metadata": {
  "kernelspec": {
   "display_name": "Python 3",
   "language": "python",
   "name": "python3"
  },
  "language_info": {
   "codemirror_mode": {
    "name": "ipython",
    "version": 3
   },
   "file_extension": ".py",
   "mimetype": "text/x-python",
   "name": "python",
   "nbconvert_exporter": "python",
   "pygments_lexer": "ipython3",
   "version": "3.10.15"
  }
 },
 "nbformat": 4,
 "nbformat_minor": 2
}
